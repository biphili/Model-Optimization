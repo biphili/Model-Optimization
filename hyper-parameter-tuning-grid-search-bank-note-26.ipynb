{
 "cells": [
  {
   "cell_type": "code",
   "execution_count": 1,
   "id": "placed-retail",
   "metadata": {
    "_cell_guid": "b1076dfc-b9ad-4769-8c92-a6c4dae69d19",
    "_kg_hide-input": true,
    "_uuid": "8f2839f25d086af736a60e9eeb907d3b93b6e0e5",
    "execution": {
     "iopub.execute_input": "2021-04-18T07:21:18.191190Z",
     "iopub.status.busy": "2021-04-18T07:21:18.190579Z",
     "iopub.status.idle": "2021-04-18T07:21:18.204343Z",
     "shell.execute_reply": "2021-04-18T07:21:18.205241Z"
    },
    "papermill": {
     "duration": 0.044597,
     "end_time": "2021-04-18T07:21:18.205572",
     "exception": false,
     "start_time": "2021-04-18T07:21:18.160975",
     "status": "completed"
    },
    "tags": []
   },
   "outputs": [
    {
     "name": "stdout",
     "output_type": "stream",
     "text": [
      "/kaggle/input/banknote-authentication-uci/BankNoteAuthentication.csv\n"
     ]
    }
   ],
   "source": [
    "# This Python 3 environment comes with many helpful analytics libraries installed\n",
    "# It is defined by the kaggle/python Docker image: https://github.com/kaggle/docker-python\n",
    "# For example, here's several helpful packages to load\n",
    "\n",
    "import numpy as np # linear algebra\n",
    "import pandas as pd # data processing, CSV file I/O (e.g. pd.read_csv)\n",
    "\n",
    "# Input data files are available in the read-only \"../input/\" directory\n",
    "# For example, running this (by clicking run or pressing Shift+Enter) will list all files under the input directory\n",
    "\n",
    "import os\n",
    "for dirname, _, filenames in os.walk('/kaggle/input'):\n",
    "    for filename in filenames:\n",
    "        print(os.path.join(dirname, filename))\n",
    "\n",
    "# You can write up to 20GB to the current directory (/kaggle/working/) that gets preserved as output when you create a version using \"Save & Run All\" \n",
    "# You can also write temporary files to /kaggle/temp/, but they won't be saved outside of the current session"
   ]
  },
  {
   "cell_type": "markdown",
   "id": "legal-spiritual",
   "metadata": {
    "papermill": {
     "duration": 0.022847,
     "end_time": "2021-04-18T07:21:18.253128",
     "exception": false,
     "start_time": "2021-04-18T07:21:18.230281",
     "status": "completed"
    },
    "tags": []
   },
   "source": [
    "### Recently I published a self help book titled Inspiration: Thoughts on Spirituality, Technology, Wealth, Leadership and Motivation. The preview of the book can be read from the Amazon link https://lnkd.in/gj7bMQA\n",
    "\n",
    "Any machine learning algorithm has many hyperparameters.Many people generally use the default values for the hyper parameters.But if we can optimise these hyper parameters then we wll be in a position to further improve the performance of our machine learning models.In this notebooks we will cover following things\n",
    "\n",
    "1.Data Import\n",
    "\n",
    "2.Data Preparation\n",
    "\n",
    "3.Building a Random Forest Model\n",
    "\n",
    "4.Hyper Parameter tuning using Grid Search\n",
    "\n",
    "5.Creating dataframe and Pivot table of hyperparameter and accuracy\n",
    "\n",
    "6.Result Visualization\n",
    "\n",
    "7.Conclusion\n",
    "\n",
    "### You can refer to my other notebooks from https://www.kaggle.com/binuthomasphilip/code"
   ]
  },
  {
   "cell_type": "markdown",
   "id": "offensive-captain",
   "metadata": {
    "papermill": {
     "duration": 0.023372,
     "end_time": "2021-04-18T07:21:18.300814",
     "exception": false,
     "start_time": "2021-04-18T07:21:18.277442",
     "status": "completed"
    },
    "tags": []
   },
   "source": [
    "# 1.Importing and Data Exploration data"
   ]
  },
  {
   "cell_type": "markdown",
   "id": "marked-contractor",
   "metadata": {
    "papermill": {
     "duration": 0.023254,
     "end_time": "2021-04-18T07:21:18.348948",
     "exception": false,
     "start_time": "2021-04-18T07:21:18.325694",
     "status": "completed"
    },
    "tags": []
   },
   "source": [
    "### ### Importing Python Modules "
   ]
  },
  {
   "cell_type": "code",
   "execution_count": 2,
   "id": "rapid-saturday",
   "metadata": {
    "_kg_hide-input": true,
    "execution": {
     "iopub.execute_input": "2021-04-18T07:21:18.403263Z",
     "iopub.status.busy": "2021-04-18T07:21:18.402579Z",
     "iopub.status.idle": "2021-04-18T07:21:20.167939Z",
     "shell.execute_reply": "2021-04-18T07:21:20.167391Z"
    },
    "papermill": {
     "duration": 1.795412,
     "end_time": "2021-04-18T07:21:20.168073",
     "exception": false,
     "start_time": "2021-04-18T07:21:18.372661",
     "status": "completed"
    },
    "tags": []
   },
   "outputs": [
    {
     "data": {
      "text/html": [
       "<style type='text/css'>\n",
       ".datatable table.frame { margin-bottom: 0; }\n",
       ".datatable table.frame thead { border-bottom: none; }\n",
       ".datatable table.frame tr.coltypes td {  color: #FFFFFF;  line-height: 6px;  padding: 0 0.5em;}\n",
       ".datatable .bool    { background: #DDDD99; }\n",
       ".datatable .object  { background: #565656; }\n",
       ".datatable .int     { background: #5D9E5D; }\n",
       ".datatable .float   { background: #4040CC; }\n",
       ".datatable .str     { background: #CC4040; }\n",
       ".datatable .row_index {  background: var(--jp-border-color3);  border-right: 1px solid var(--jp-border-color0);  color: var(--jp-ui-font-color3);  font-size: 9px;}\n",
       ".datatable .frame tr.coltypes .row_index {  background: var(--jp-border-color0);}\n",
       ".datatable th:nth-child(2) { padding-left: 12px; }\n",
       ".datatable .hellipsis {  color: var(--jp-cell-editor-border-color);}\n",
       ".datatable .vellipsis {  background: var(--jp-layout-color0);  color: var(--jp-cell-editor-border-color);}\n",
       ".datatable .na {  color: var(--jp-cell-editor-border-color);  font-size: 80%;}\n",
       ".datatable .footer { font-size: 9px; }\n",
       ".datatable .frame_dimensions {  background: var(--jp-border-color3);  border-top: 1px solid var(--jp-border-color0);  color: var(--jp-ui-font-color3);  display: inline-block;  opacity: 0.6;  padding: 1px 10px 1px 5px;}\n",
       "</style>\n"
      ],
      "text/plain": [
       "<IPython.core.display.HTML object>"
      ]
     },
     "metadata": {},
     "output_type": "display_data"
    }
   ],
   "source": [
    "import numpy as np \n",
    "import pandas as pd \n",
    "import matplotlib.pyplot as plt\n",
    "import seaborn as sns\n",
    "from dateutil import parser\n",
    "from sklearn.model_selection import train_test_split\n",
    "from sklearn.preprocessing import StandardScaler \n",
    "from sklearn.svm import SVC \n",
    "from xgboost import XGBClassifier\n",
    "from sklearn.ensemble import RandomForestClassifier\n",
    "from sklearn.linear_model import LogisticRegression\n",
    "from sklearn.metrics import confusion_matrix,classification_report,accuracy_score\n",
    "from sklearn.model_selection import GridSearchCV\n",
    "import pickle\n",
    "from lightgbm import LGBMClassifier\n",
    "import warnings\n",
    "plt.style.use('fivethirtyeight')\n",
    "import warnings\n",
    "warnings.filterwarnings('ignore')"
   ]
  },
  {
   "cell_type": "markdown",
   "id": "streaming-howard",
   "metadata": {
    "papermill": {
     "duration": 0.024068,
     "end_time": "2021-04-18T07:21:20.216495",
     "exception": false,
     "start_time": "2021-04-18T07:21:20.192427",
     "status": "completed"
    },
    "tags": []
   },
   "source": [
    "### Importing Data"
   ]
  },
  {
   "cell_type": "code",
   "execution_count": 3,
   "id": "distant-reset",
   "metadata": {
    "_kg_hide-input": true,
    "execution": {
     "iopub.execute_input": "2021-04-18T07:21:20.270420Z",
     "iopub.status.busy": "2021-04-18T07:21:20.269791Z",
     "iopub.status.idle": "2021-04-18T07:21:20.315516Z",
     "shell.execute_reply": "2021-04-18T07:21:20.314992Z"
    },
    "papermill": {
     "duration": 0.074341,
     "end_time": "2021-04-18T07:21:20.315667",
     "exception": false,
     "start_time": "2021-04-18T07:21:20.241326",
     "status": "completed"
    },
    "tags": []
   },
   "outputs": [
    {
     "data": {
      "text/html": [
       "<div>\n",
       "<style scoped>\n",
       "    .dataframe tbody tr th:only-of-type {\n",
       "        vertical-align: middle;\n",
       "    }\n",
       "\n",
       "    .dataframe tbody tr th {\n",
       "        vertical-align: top;\n",
       "    }\n",
       "\n",
       "    .dataframe thead th {\n",
       "        text-align: right;\n",
       "    }\n",
       "</style>\n",
       "<table border=\"1\" class=\"dataframe\">\n",
       "  <thead>\n",
       "    <tr style=\"text-align: right;\">\n",
       "      <th></th>\n",
       "      <th>variance</th>\n",
       "      <th>skewness</th>\n",
       "      <th>curtosis</th>\n",
       "      <th>entropy</th>\n",
       "      <th>class</th>\n",
       "    </tr>\n",
       "  </thead>\n",
       "  <tbody>\n",
       "    <tr>\n",
       "      <th>0</th>\n",
       "      <td>3.62160</td>\n",
       "      <td>8.6661</td>\n",
       "      <td>-2.8073</td>\n",
       "      <td>-0.44699</td>\n",
       "      <td>0</td>\n",
       "    </tr>\n",
       "    <tr>\n",
       "      <th>1</th>\n",
       "      <td>4.54590</td>\n",
       "      <td>8.1674</td>\n",
       "      <td>-2.4586</td>\n",
       "      <td>-1.46210</td>\n",
       "      <td>0</td>\n",
       "    </tr>\n",
       "    <tr>\n",
       "      <th>2</th>\n",
       "      <td>3.86600</td>\n",
       "      <td>-2.6383</td>\n",
       "      <td>1.9242</td>\n",
       "      <td>0.10645</td>\n",
       "      <td>0</td>\n",
       "    </tr>\n",
       "    <tr>\n",
       "      <th>3</th>\n",
       "      <td>3.45660</td>\n",
       "      <td>9.5228</td>\n",
       "      <td>-4.0112</td>\n",
       "      <td>-3.59440</td>\n",
       "      <td>0</td>\n",
       "    </tr>\n",
       "    <tr>\n",
       "      <th>4</th>\n",
       "      <td>0.32924</td>\n",
       "      <td>-4.4552</td>\n",
       "      <td>4.5718</td>\n",
       "      <td>-0.98880</td>\n",
       "      <td>0</td>\n",
       "    </tr>\n",
       "  </tbody>\n",
       "</table>\n",
       "</div>"
      ],
      "text/plain": [
       "   variance  skewness  curtosis  entropy  class\n",
       "0   3.62160    8.6661   -2.8073 -0.44699      0\n",
       "1   4.54590    8.1674   -2.4586 -1.46210      0\n",
       "2   3.86600   -2.6383    1.9242  0.10645      0\n",
       "3   3.45660    9.5228   -4.0112 -3.59440      0\n",
       "4   0.32924   -4.4552    4.5718 -0.98880      0"
      ]
     },
     "execution_count": 3,
     "metadata": {},
     "output_type": "execute_result"
    }
   ],
   "source": [
    "df=pd.read_csv('../input/banknote-authentication-uci/BankNoteAuthentication.csv')\n",
    "df.head()"
   ]
  },
  {
   "cell_type": "markdown",
   "id": "eastern-router",
   "metadata": {
    "papermill": {
     "duration": 0.024329,
     "end_time": "2021-04-18T07:21:20.364905",
     "exception": false,
     "start_time": "2021-04-18T07:21:20.340576",
     "status": "completed"
    },
    "tags": []
   },
   "source": [
    "# 2.Data Preparation  "
   ]
  },
  {
   "cell_type": "markdown",
   "id": "blond-probability",
   "metadata": {
    "papermill": {
     "duration": 0.024267,
     "end_time": "2021-04-18T07:21:20.414070",
     "exception": false,
     "start_time": "2021-04-18T07:21:20.389803",
     "status": "completed"
    },
    "tags": []
   },
   "source": [
    "### 2.1 Creating Matrix of Features"
   ]
  },
  {
   "cell_type": "code",
   "execution_count": 4,
   "id": "imposed-means",
   "metadata": {
    "_kg_hide-input": true,
    "execution": {
     "iopub.execute_input": "2021-04-18T07:21:20.466916Z",
     "iopub.status.busy": "2021-04-18T07:21:20.466317Z",
     "iopub.status.idle": "2021-04-18T07:21:20.470669Z",
     "shell.execute_reply": "2021-04-18T07:21:20.471222Z"
    },
    "papermill": {
     "duration": 0.032065,
     "end_time": "2021-04-18T07:21:20.471382",
     "exception": false,
     "start_time": "2021-04-18T07:21:20.439317",
     "status": "completed"
    },
    "tags": []
   },
   "outputs": [],
   "source": [
    "X = df.iloc[:,:-1]\n",
    "y = df.iloc[:,-1]"
   ]
  },
  {
   "cell_type": "markdown",
   "id": "fluid-excerpt",
   "metadata": {
    "papermill": {
     "duration": 0.025035,
     "end_time": "2021-04-18T07:21:20.521899",
     "exception": false,
     "start_time": "2021-04-18T07:21:20.496864",
     "status": "completed"
    },
    "tags": []
   },
   "source": [
    "### 2.2 Examining the Shape of Data"
   ]
  },
  {
   "cell_type": "code",
   "execution_count": 5,
   "id": "advised-gabriel",
   "metadata": {
    "_kg_hide-input": true,
    "execution": {
     "iopub.execute_input": "2021-04-18T07:21:20.578117Z",
     "iopub.status.busy": "2021-04-18T07:21:20.577308Z",
     "iopub.status.idle": "2021-04-18T07:21:20.581433Z",
     "shell.execute_reply": "2021-04-18T07:21:20.580892Z"
    },
    "papermill": {
     "duration": 0.034118,
     "end_time": "2021-04-18T07:21:20.581566",
     "exception": false,
     "start_time": "2021-04-18T07:21:20.547448",
     "status": "completed"
    },
    "tags": []
   },
   "outputs": [
    {
     "data": {
      "text/plain": [
       "(1372, 5)"
      ]
     },
     "execution_count": 5,
     "metadata": {},
     "output_type": "execute_result"
    }
   ],
   "source": [
    "df.shape"
   ]
  },
  {
   "cell_type": "markdown",
   "id": "everyday-moses",
   "metadata": {
    "papermill": {
     "duration": 0.025249,
     "end_time": "2021-04-18T07:21:20.632333",
     "exception": false,
     "start_time": "2021-04-18T07:21:20.607084",
     "status": "completed"
    },
    "tags": []
   },
   "source": [
    "### 2.3 Test Train Split"
   ]
  },
  {
   "cell_type": "code",
   "execution_count": 6,
   "id": "leading-portuguese",
   "metadata": {
    "_kg_hide-input": true,
    "execution": {
     "iopub.execute_input": "2021-04-18T07:21:20.686138Z",
     "iopub.status.busy": "2021-04-18T07:21:20.685494Z",
     "iopub.status.idle": "2021-04-18T07:21:20.691232Z",
     "shell.execute_reply": "2021-04-18T07:21:20.691819Z"
    },
    "papermill": {
     "duration": 0.034229,
     "end_time": "2021-04-18T07:21:20.691993",
     "exception": false,
     "start_time": "2021-04-18T07:21:20.657764",
     "status": "completed"
    },
    "tags": []
   },
   "outputs": [],
   "source": [
    "from sklearn.model_selection import train_test_split\n",
    "X_train,X_test,y_train,y_test = train_test_split(X,y,test_size=0.2,random_state=0)"
   ]
  },
  {
   "cell_type": "markdown",
   "id": "portable-abraham",
   "metadata": {
    "papermill": {
     "duration": 0.025524,
     "end_time": "2021-04-18T07:21:20.743305",
     "exception": false,
     "start_time": "2021-04-18T07:21:20.717781",
     "status": "completed"
    },
    "tags": []
   },
   "source": [
    "# 3.Model Build\n",
    "\n",
    "We will be building up Random Forest model to classify Bank notes.We will be considering n_estimators and max_features hyper parameters while building up our Random Forest Model."
   ]
  },
  {
   "cell_type": "code",
   "execution_count": 7,
   "id": "sustained-submission",
   "metadata": {
    "_kg_hide-input": true,
    "execution": {
     "iopub.execute_input": "2021-04-18T07:21:20.797468Z",
     "iopub.status.busy": "2021-04-18T07:21:20.796855Z",
     "iopub.status.idle": "2021-04-18T07:21:20.800690Z",
     "shell.execute_reply": "2021-04-18T07:21:20.801182Z"
    },
    "papermill": {
     "duration": 0.032431,
     "end_time": "2021-04-18T07:21:20.801337",
     "exception": false,
     "start_time": "2021-04-18T07:21:20.768906",
     "status": "completed"
    },
    "tags": []
   },
   "outputs": [],
   "source": [
    "from sklearn.ensemble import RandomForestClassifier\n",
    "from sklearn.metrics import accuracy_score\n",
    "\n",
    "rf = RandomForestClassifier(max_features=4,n_estimators=100)"
   ]
  },
  {
   "cell_type": "code",
   "execution_count": 8,
   "id": "through-chick",
   "metadata": {
    "_kg_hide-input": true,
    "execution": {
     "iopub.execute_input": "2021-04-18T07:21:20.856146Z",
     "iopub.status.busy": "2021-04-18T07:21:20.855566Z",
     "iopub.status.idle": "2021-04-18T07:21:21.185542Z",
     "shell.execute_reply": "2021-04-18T07:21:21.186024Z"
    },
    "papermill": {
     "duration": 0.358895,
     "end_time": "2021-04-18T07:21:21.186182",
     "exception": false,
     "start_time": "2021-04-18T07:21:20.827287",
     "status": "completed"
    },
    "tags": []
   },
   "outputs": [
    {
     "data": {
      "text/plain": [
       "RandomForestClassifier(max_features=4)"
      ]
     },
     "execution_count": 8,
     "metadata": {},
     "output_type": "execute_result"
    }
   ],
   "source": [
    "rf.fit(X_train,y_train)"
   ]
  },
  {
   "cell_type": "markdown",
   "id": "supposed-utilization",
   "metadata": {
    "papermill": {
     "duration": 0.025004,
     "end_time": "2021-04-18T07:21:21.237246",
     "exception": false,
     "start_time": "2021-04-18T07:21:21.212242",
     "status": "completed"
    },
    "tags": []
   },
   "source": [
    "### 3.1 Making Predictions"
   ]
  },
  {
   "cell_type": "code",
   "execution_count": 9,
   "id": "casual-resistance",
   "metadata": {
    "_kg_hide-input": true,
    "execution": {
     "iopub.execute_input": "2021-04-18T07:21:21.297381Z",
     "iopub.status.busy": "2021-04-18T07:21:21.296776Z",
     "iopub.status.idle": "2021-04-18T07:21:21.310886Z",
     "shell.execute_reply": "2021-04-18T07:21:21.311417Z"
    },
    "papermill": {
     "duration": 0.048119,
     "end_time": "2021-04-18T07:21:21.311585",
     "exception": false,
     "start_time": "2021-04-18T07:21:21.263466",
     "status": "completed"
    },
    "tags": []
   },
   "outputs": [],
   "source": [
    "y_pred = rf.predict(X_test)"
   ]
  },
  {
   "cell_type": "markdown",
   "id": "middle-judgment",
   "metadata": {
    "papermill": {
     "duration": 0.026441,
     "end_time": "2021-04-18T07:21:21.364697",
     "exception": false,
     "start_time": "2021-04-18T07:21:21.338256",
     "status": "completed"
    },
    "tags": []
   },
   "source": [
    "### 3.2 R Square Error "
   ]
  },
  {
   "cell_type": "code",
   "execution_count": 10,
   "id": "integral-botswana",
   "metadata": {
    "_kg_hide-input": true,
    "execution": {
     "iopub.execute_input": "2021-04-18T07:21:21.420224Z",
     "iopub.status.busy": "2021-04-18T07:21:21.419558Z",
     "iopub.status.idle": "2021-04-18T07:21:21.438837Z",
     "shell.execute_reply": "2021-04-18T07:21:21.439414Z"
    },
    "papermill": {
     "duration": 0.048802,
     "end_time": "2021-04-18T07:21:21.439579",
     "exception": false,
     "start_time": "2021-04-18T07:21:21.390777",
     "status": "completed"
    },
    "tags": []
   },
   "outputs": [
    {
     "data": {
      "text/plain": [
       "0.9890909090909091"
      ]
     },
     "execution_count": 10,
     "metadata": {},
     "output_type": "execute_result"
    }
   ],
   "source": [
    "rf.score(X_test,y_test)"
   ]
  },
  {
   "cell_type": "markdown",
   "id": "confirmed-watershed",
   "metadata": {
    "papermill": {
     "duration": 0.026094,
     "end_time": "2021-04-18T07:21:21.493118",
     "exception": false,
     "start_time": "2021-04-18T07:21:21.467024",
     "status": "completed"
    },
    "tags": []
   },
   "source": [
    "### 3.3 Accuracy Score "
   ]
  },
  {
   "cell_type": "code",
   "execution_count": 11,
   "id": "interested-uzbekistan",
   "metadata": {
    "_kg_hide-input": true,
    "execution": {
     "iopub.execute_input": "2021-04-18T07:21:21.549079Z",
     "iopub.status.busy": "2021-04-18T07:21:21.548487Z",
     "iopub.status.idle": "2021-04-18T07:21:21.553698Z",
     "shell.execute_reply": "2021-04-18T07:21:21.554214Z"
    },
    "papermill": {
     "duration": 0.034572,
     "end_time": "2021-04-18T07:21:21.554372",
     "exception": false,
     "start_time": "2021-04-18T07:21:21.519800",
     "status": "completed"
    },
    "tags": []
   },
   "outputs": [
    {
     "data": {
      "text/plain": [
       "0.9890909090909091"
      ]
     },
     "execution_count": 11,
     "metadata": {},
     "output_type": "execute_result"
    }
   ],
   "source": [
    "# rf.score(X_test,y_test)\n",
    "accuracy_score(y_pred,y_test)"
   ]
  },
  {
   "cell_type": "markdown",
   "id": "unlike-bulgaria",
   "metadata": {
    "papermill": {
     "duration": 0.026766,
     "end_time": "2021-04-18T07:21:21.608543",
     "exception": false,
     "start_time": "2021-04-18T07:21:21.581777",
     "status": "completed"
    },
    "tags": []
   },
   "source": [
    "Using the second approach we have access to predicted data values."
   ]
  },
  {
   "cell_type": "markdown",
   "id": "southern-genome",
   "metadata": {
    "papermill": {
     "duration": 0.026786,
     "end_time": "2021-04-18T07:21:21.662525",
     "exception": false,
     "start_time": "2021-04-18T07:21:21.635739",
     "status": "completed"
    },
    "tags": []
   },
   "source": [
    "# 4.Hypeparameter Tuning "
   ]
  },
  {
   "cell_type": "code",
   "execution_count": 12,
   "id": "adult-gibraltar",
   "metadata": {
    "_kg_hide-input": true,
    "execution": {
     "iopub.execute_input": "2021-04-18T07:21:21.719151Z",
     "iopub.status.busy": "2021-04-18T07:21:21.718469Z",
     "iopub.status.idle": "2021-04-18T07:21:21.724605Z",
     "shell.execute_reply": "2021-04-18T07:21:21.724156Z"
    },
    "papermill": {
     "duration": 0.03552,
     "end_time": "2021-04-18T07:21:21.724751",
     "exception": false,
     "start_time": "2021-04-18T07:21:21.689231",
     "status": "completed"
    },
    "tags": []
   },
   "outputs": [],
   "source": [
    "from sklearn.model_selection import GridSearchCV\n",
    "\n",
    "max_features_range = np.arange(1,5,1)\n",
    "n_estimators_range = np.arange(10,201,10)\n",
    "param_grid = dict(max_features=max_features_range,n_estimators=n_estimators_range)\n",
    "\n",
    "rd = RandomForestClassifier()\n",
    "    \n",
    "grid = GridSearchCV(estimator=rf,param_grid=param_grid,cv=5)"
   ]
  },
  {
   "cell_type": "code",
   "execution_count": 13,
   "id": "serious-sympathy",
   "metadata": {
    "_kg_hide-input": true,
    "execution": {
     "iopub.execute_input": "2021-04-18T07:21:21.782184Z",
     "iopub.status.busy": "2021-04-18T07:21:21.781552Z",
     "iopub.status.idle": "2021-04-18T07:23:11.828919Z",
     "shell.execute_reply": "2021-04-18T07:23:11.829438Z"
    },
    "papermill": {
     "duration": 110.078058,
     "end_time": "2021-04-18T07:23:11.829627",
     "exception": false,
     "start_time": "2021-04-18T07:21:21.751569",
     "status": "completed"
    },
    "tags": []
   },
   "outputs": [
    {
     "data": {
      "text/plain": [
       "GridSearchCV(cv=5, estimator=RandomForestClassifier(max_features=4),\n",
       "             param_grid={'max_features': array([1, 2, 3, 4]),\n",
       "                         'n_estimators': array([ 10,  20,  30,  40,  50,  60,  70,  80,  90, 100, 110, 120, 130,\n",
       "       140, 150, 160, 170, 180, 190, 200])})"
      ]
     },
     "execution_count": 13,
     "metadata": {},
     "output_type": "execute_result"
    }
   ],
   "source": [
    "grid.fit(X_train,y_train)"
   ]
  },
  {
   "cell_type": "code",
   "execution_count": 14,
   "id": "final-electricity",
   "metadata": {
    "_kg_hide-input": true,
    "execution": {
     "iopub.execute_input": "2021-04-18T07:23:11.890836Z",
     "iopub.status.busy": "2021-04-18T07:23:11.890068Z",
     "iopub.status.idle": "2021-04-18T07:23:11.892860Z",
     "shell.execute_reply": "2021-04-18T07:23:11.893342Z"
    },
    "papermill": {
     "duration": 0.036004,
     "end_time": "2021-04-18T07:23:11.893504",
     "exception": false,
     "start_time": "2021-04-18T07:23:11.857500",
     "status": "completed"
    },
    "tags": []
   },
   "outputs": [
    {
     "name": "stdout",
     "output_type": "stream",
     "text": [
      "The best parameters are {'max_features': 2, 'n_estimators': 140} with a score of 0.99\n"
     ]
    }
   ],
   "source": [
    "print(\"The best parameters are %s with a score of %0.2f\"\n",
    "      % (grid.best_params_,grid.best_score_))"
   ]
  },
  {
   "cell_type": "markdown",
   "id": "heated-constitutional",
   "metadata": {
    "papermill": {
     "duration": 0.029713,
     "end_time": "2021-04-18T07:23:11.951968",
     "exception": false,
     "start_time": "2021-04-18T07:23:11.922255",
     "status": "completed"
    },
    "tags": []
   },
   "source": [
    "# 5.Hyperparameter's and Accuracy "
   ]
  },
  {
   "cell_type": "code",
   "execution_count": 15,
   "id": "sweet-fight",
   "metadata": {
    "_kg_hide-input": true,
    "execution": {
     "iopub.execute_input": "2021-04-18T07:23:12.021657Z",
     "iopub.status.busy": "2021-04-18T07:23:12.021006Z",
     "iopub.status.idle": "2021-04-18T07:23:12.025600Z",
     "shell.execute_reply": "2021-04-18T07:23:12.024945Z"
    },
    "papermill": {
     "duration": 0.045183,
     "end_time": "2021-04-18T07:23:12.025754",
     "exception": false,
     "start_time": "2021-04-18T07:23:11.980571",
     "status": "completed"
    },
    "tags": []
   },
   "outputs": [
    {
     "data": {
      "text/html": [
       "<div>\n",
       "<style scoped>\n",
       "    .dataframe tbody tr th:only-of-type {\n",
       "        vertical-align: middle;\n",
       "    }\n",
       "\n",
       "    .dataframe tbody tr th {\n",
       "        vertical-align: top;\n",
       "    }\n",
       "\n",
       "    .dataframe thead th {\n",
       "        text-align: right;\n",
       "    }\n",
       "</style>\n",
       "<table border=\"1\" class=\"dataframe\">\n",
       "  <thead>\n",
       "    <tr style=\"text-align: right;\">\n",
       "      <th></th>\n",
       "      <th>max_features</th>\n",
       "      <th>n_estimators</th>\n",
       "      <th>Accuracy</th>\n",
       "    </tr>\n",
       "  </thead>\n",
       "  <tbody>\n",
       "    <tr>\n",
       "      <th>0</th>\n",
       "      <td>1</td>\n",
       "      <td>10</td>\n",
       "      <td>0.991797</td>\n",
       "    </tr>\n",
       "    <tr>\n",
       "      <th>1</th>\n",
       "      <td>1</td>\n",
       "      <td>20</td>\n",
       "      <td>0.991802</td>\n",
       "    </tr>\n",
       "    <tr>\n",
       "      <th>2</th>\n",
       "      <td>1</td>\n",
       "      <td>30</td>\n",
       "      <td>0.991797</td>\n",
       "    </tr>\n",
       "    <tr>\n",
       "      <th>3</th>\n",
       "      <td>1</td>\n",
       "      <td>40</td>\n",
       "      <td>0.987248</td>\n",
       "    </tr>\n",
       "    <tr>\n",
       "      <th>4</th>\n",
       "      <td>1</td>\n",
       "      <td>50</td>\n",
       "      <td>0.989983</td>\n",
       "    </tr>\n",
       "  </tbody>\n",
       "</table>\n",
       "</div>"
      ],
      "text/plain": [
       "   max_features  n_estimators  Accuracy\n",
       "0             1            10  0.991797\n",
       "1             1            20  0.991802\n",
       "2             1            30  0.991797\n",
       "3             1            40  0.987248\n",
       "4             1            50  0.989983"
      ]
     },
     "execution_count": 15,
     "metadata": {},
     "output_type": "execute_result"
    }
   ],
   "source": [
    "grid_results = pd.concat([pd.DataFrame(grid.cv_results_[\"params\"]),pd.DataFrame(grid.cv_results_[\"mean_test_score\"], columns=[\"Accuracy\"])],axis=1)\n",
    "grid_results.head()"
   ]
  },
  {
   "cell_type": "markdown",
   "id": "overall-lighter",
   "metadata": {
    "papermill": {
     "duration": 0.028846,
     "end_time": "2021-04-18T07:23:12.083882",
     "exception": false,
     "start_time": "2021-04-18T07:23:12.055036",
     "status": "completed"
    },
    "tags": []
   },
   "source": [
    "### "
   ]
  },
  {
   "cell_type": "markdown",
   "id": "destroyed-player",
   "metadata": {
    "papermill": {
     "duration": 0.0286,
     "end_time": "2021-04-18T07:23:12.142292",
     "exception": false,
     "start_time": "2021-04-18T07:23:12.113692",
     "status": "completed"
    },
    "tags": []
   },
   "source": [
    "# 6.Result Visualization"
   ]
  },
  {
   "cell_type": "markdown",
   "id": "extended-ethnic",
   "metadata": {
    "papermill": {
     "duration": 0.028407,
     "end_time": "2021-04-18T07:23:12.199512",
     "exception": false,
     "start_time": "2021-04-18T07:23:12.171105",
     "status": "completed"
    },
    "tags": []
   },
   "source": [
    "### 6.1 2D Contour Plot"
   ]
  },
  {
   "cell_type": "code",
   "execution_count": 16,
   "id": "nasty-booking",
   "metadata": {
    "_kg_hide-input": true,
    "execution": {
     "iopub.execute_input": "2021-04-18T07:23:12.268008Z",
     "iopub.status.busy": "2021-04-18T07:23:12.265754Z",
     "iopub.status.idle": "2021-04-18T07:23:12.282537Z",
     "shell.execute_reply": "2021-04-18T07:23:12.281995Z"
    },
    "papermill": {
     "duration": 0.054575,
     "end_time": "2021-04-18T07:23:12.282706",
     "exception": false,
     "start_time": "2021-04-18T07:23:12.228131",
     "status": "completed"
    },
    "tags": []
   },
   "outputs": [
    {
     "data": {
      "text/html": [
       "<div>\n",
       "<style scoped>\n",
       "    .dataframe tbody tr th:only-of-type {\n",
       "        vertical-align: middle;\n",
       "    }\n",
       "\n",
       "    .dataframe tbody tr th {\n",
       "        vertical-align: top;\n",
       "    }\n",
       "\n",
       "    .dataframe thead th {\n",
       "        text-align: right;\n",
       "    }\n",
       "</style>\n",
       "<table border=\"1\" class=\"dataframe\">\n",
       "  <thead>\n",
       "    <tr style=\"text-align: right;\">\n",
       "      <th></th>\n",
       "      <th></th>\n",
       "      <th>Accuracy</th>\n",
       "    </tr>\n",
       "    <tr>\n",
       "      <th>max_features</th>\n",
       "      <th>n_estimators</th>\n",
       "      <th></th>\n",
       "    </tr>\n",
       "  </thead>\n",
       "  <tbody>\n",
       "    <tr>\n",
       "      <th rowspan=\"5\" valign=\"top\">1</th>\n",
       "      <th>10</th>\n",
       "      <td>0.991797</td>\n",
       "    </tr>\n",
       "    <tr>\n",
       "      <th>20</th>\n",
       "      <td>0.991802</td>\n",
       "    </tr>\n",
       "    <tr>\n",
       "      <th>30</th>\n",
       "      <td>0.991797</td>\n",
       "    </tr>\n",
       "    <tr>\n",
       "      <th>40</th>\n",
       "      <td>0.987248</td>\n",
       "    </tr>\n",
       "    <tr>\n",
       "      <th>50</th>\n",
       "      <td>0.989983</td>\n",
       "    </tr>\n",
       "    <tr>\n",
       "      <th>...</th>\n",
       "      <th>...</th>\n",
       "      <td>...</td>\n",
       "    </tr>\n",
       "    <tr>\n",
       "      <th rowspan=\"5\" valign=\"top\">4</th>\n",
       "      <th>160</th>\n",
       "      <td>0.987240</td>\n",
       "    </tr>\n",
       "    <tr>\n",
       "      <th>170</th>\n",
       "      <td>0.987240</td>\n",
       "    </tr>\n",
       "    <tr>\n",
       "      <th>180</th>\n",
       "      <td>0.986326</td>\n",
       "    </tr>\n",
       "    <tr>\n",
       "      <th>190</th>\n",
       "      <td>0.987244</td>\n",
       "    </tr>\n",
       "    <tr>\n",
       "      <th>200</th>\n",
       "      <td>0.988149</td>\n",
       "    </tr>\n",
       "  </tbody>\n",
       "</table>\n",
       "<p>80 rows × 1 columns</p>\n",
       "</div>"
      ],
      "text/plain": [
       "                           Accuracy\n",
       "max_features n_estimators          \n",
       "1            10            0.991797\n",
       "             20            0.991802\n",
       "             30            0.991797\n",
       "             40            0.987248\n",
       "             50            0.989983\n",
       "...                             ...\n",
       "4            160           0.987240\n",
       "             170           0.987240\n",
       "             180           0.986326\n",
       "             190           0.987244\n",
       "             200           0.988149\n",
       "\n",
       "[80 rows x 1 columns]"
      ]
     },
     "execution_count": 16,
     "metadata": {},
     "output_type": "execute_result"
    }
   ],
   "source": [
    "# Creating Data Frame\n",
    "\n",
    "grid_contour = grid_results.groupby(['max_features','n_estimators']).mean()\n",
    "grid_contour"
   ]
  },
  {
   "cell_type": "code",
   "execution_count": 17,
   "id": "occasional-legend",
   "metadata": {
    "_kg_hide-input": true,
    "execution": {
     "iopub.execute_input": "2021-04-18T07:23:12.378680Z",
     "iopub.status.busy": "2021-04-18T07:23:12.365813Z",
     "iopub.status.idle": "2021-04-18T07:23:12.383484Z",
     "shell.execute_reply": "2021-04-18T07:23:12.382964Z"
    },
    "papermill": {
     "duration": 0.07091,
     "end_time": "2021-04-18T07:23:12.383644",
     "exception": false,
     "start_time": "2021-04-18T07:23:12.312734",
     "status": "completed"
    },
    "tags": []
   },
   "outputs": [
    {
     "data": {
      "text/html": [
       "<div>\n",
       "<style scoped>\n",
       "    .dataframe tbody tr th:only-of-type {\n",
       "        vertical-align: middle;\n",
       "    }\n",
       "\n",
       "    .dataframe tbody tr th {\n",
       "        vertical-align: top;\n",
       "    }\n",
       "\n",
       "    .dataframe thead tr th {\n",
       "        text-align: left;\n",
       "    }\n",
       "\n",
       "    .dataframe thead tr:last-of-type th {\n",
       "        text-align: right;\n",
       "    }\n",
       "</style>\n",
       "<table border=\"1\" class=\"dataframe\">\n",
       "  <thead>\n",
       "    <tr>\n",
       "      <th></th>\n",
       "      <th colspan=\"20\" halign=\"left\">Accuracy</th>\n",
       "    </tr>\n",
       "    <tr>\n",
       "      <th>n_estimators</th>\n",
       "      <th>10</th>\n",
       "      <th>20</th>\n",
       "      <th>30</th>\n",
       "      <th>40</th>\n",
       "      <th>50</th>\n",
       "      <th>60</th>\n",
       "      <th>70</th>\n",
       "      <th>80</th>\n",
       "      <th>90</th>\n",
       "      <th>100</th>\n",
       "      <th>110</th>\n",
       "      <th>120</th>\n",
       "      <th>130</th>\n",
       "      <th>140</th>\n",
       "      <th>150</th>\n",
       "      <th>160</th>\n",
       "      <th>170</th>\n",
       "      <th>180</th>\n",
       "      <th>190</th>\n",
       "      <th>200</th>\n",
       "    </tr>\n",
       "    <tr>\n",
       "      <th>max_features</th>\n",
       "      <th></th>\n",
       "      <th></th>\n",
       "      <th></th>\n",
       "      <th></th>\n",
       "      <th></th>\n",
       "      <th></th>\n",
       "      <th></th>\n",
       "      <th></th>\n",
       "      <th></th>\n",
       "      <th></th>\n",
       "      <th></th>\n",
       "      <th></th>\n",
       "      <th></th>\n",
       "      <th></th>\n",
       "      <th></th>\n",
       "      <th></th>\n",
       "      <th></th>\n",
       "      <th></th>\n",
       "      <th></th>\n",
       "      <th></th>\n",
       "    </tr>\n",
       "  </thead>\n",
       "  <tbody>\n",
       "    <tr>\n",
       "      <th>1</th>\n",
       "      <td>0.991797</td>\n",
       "      <td>0.991802</td>\n",
       "      <td>0.991797</td>\n",
       "      <td>0.987248</td>\n",
       "      <td>0.989983</td>\n",
       "      <td>0.991806</td>\n",
       "      <td>0.991806</td>\n",
       "      <td>0.989070</td>\n",
       "      <td>0.990892</td>\n",
       "      <td>0.991802</td>\n",
       "      <td>0.991802</td>\n",
       "      <td>0.989979</td>\n",
       "      <td>0.991806</td>\n",
       "      <td>0.989979</td>\n",
       "      <td>0.991806</td>\n",
       "      <td>0.989979</td>\n",
       "      <td>0.990892</td>\n",
       "      <td>0.990892</td>\n",
       "      <td>0.990892</td>\n",
       "      <td>0.989979</td>\n",
       "    </tr>\n",
       "    <tr>\n",
       "      <th>2</th>\n",
       "      <td>0.990888</td>\n",
       "      <td>0.989971</td>\n",
       "      <td>0.989070</td>\n",
       "      <td>0.991797</td>\n",
       "      <td>0.990888</td>\n",
       "      <td>0.990888</td>\n",
       "      <td>0.991797</td>\n",
       "      <td>0.989070</td>\n",
       "      <td>0.991797</td>\n",
       "      <td>0.991797</td>\n",
       "      <td>0.991797</td>\n",
       "      <td>0.991797</td>\n",
       "      <td>0.991797</td>\n",
       "      <td>0.992715</td>\n",
       "      <td>0.991797</td>\n",
       "      <td>0.992711</td>\n",
       "      <td>0.990888</td>\n",
       "      <td>0.990888</td>\n",
       "      <td>0.991797</td>\n",
       "      <td>0.991802</td>\n",
       "    </tr>\n",
       "    <tr>\n",
       "      <th>3</th>\n",
       "      <td>0.986330</td>\n",
       "      <td>0.987248</td>\n",
       "      <td>0.990884</td>\n",
       "      <td>0.990880</td>\n",
       "      <td>0.990884</td>\n",
       "      <td>0.992711</td>\n",
       "      <td>0.989971</td>\n",
       "      <td>0.991793</td>\n",
       "      <td>0.992707</td>\n",
       "      <td>0.990880</td>\n",
       "      <td>0.990880</td>\n",
       "      <td>0.991797</td>\n",
       "      <td>0.991797</td>\n",
       "      <td>0.990884</td>\n",
       "      <td>0.991793</td>\n",
       "      <td>0.990884</td>\n",
       "      <td>0.989971</td>\n",
       "      <td>0.991793</td>\n",
       "      <td>0.991793</td>\n",
       "      <td>0.991797</td>\n",
       "    </tr>\n",
       "    <tr>\n",
       "      <th>4</th>\n",
       "      <td>0.984508</td>\n",
       "      <td>0.987240</td>\n",
       "      <td>0.986330</td>\n",
       "      <td>0.988149</td>\n",
       "      <td>0.988153</td>\n",
       "      <td>0.987240</td>\n",
       "      <td>0.982690</td>\n",
       "      <td>0.987240</td>\n",
       "      <td>0.987240</td>\n",
       "      <td>0.986335</td>\n",
       "      <td>0.984512</td>\n",
       "      <td>0.988153</td>\n",
       "      <td>0.985425</td>\n",
       "      <td>0.988149</td>\n",
       "      <td>0.988149</td>\n",
       "      <td>0.987240</td>\n",
       "      <td>0.987240</td>\n",
       "      <td>0.986326</td>\n",
       "      <td>0.987244</td>\n",
       "      <td>0.988149</td>\n",
       "    </tr>\n",
       "  </tbody>\n",
       "</table>\n",
       "</div>"
      ],
      "text/plain": [
       "              Accuracy                                                    \\\n",
       "n_estimators       10        20        30        40        50        60    \n",
       "max_features                                                               \n",
       "1             0.991797  0.991802  0.991797  0.987248  0.989983  0.991806   \n",
       "2             0.990888  0.989971  0.989070  0.991797  0.990888  0.990888   \n",
       "3             0.986330  0.987248  0.990884  0.990880  0.990884  0.992711   \n",
       "4             0.984508  0.987240  0.986330  0.988149  0.988153  0.987240   \n",
       "\n",
       "                                                                          \\\n",
       "n_estimators       70        80        90        100       110       120   \n",
       "max_features                                                               \n",
       "1             0.991806  0.989070  0.990892  0.991802  0.991802  0.989979   \n",
       "2             0.991797  0.989070  0.991797  0.991797  0.991797  0.991797   \n",
       "3             0.989971  0.991793  0.992707  0.990880  0.990880  0.991797   \n",
       "4             0.982690  0.987240  0.987240  0.986335  0.984512  0.988153   \n",
       "\n",
       "                                                                          \\\n",
       "n_estimators       130       140       150       160       170       180   \n",
       "max_features                                                               \n",
       "1             0.991806  0.989979  0.991806  0.989979  0.990892  0.990892   \n",
       "2             0.991797  0.992715  0.991797  0.992711  0.990888  0.990888   \n",
       "3             0.991797  0.990884  0.991793  0.990884  0.989971  0.991793   \n",
       "4             0.985425  0.988149  0.988149  0.987240  0.987240  0.986326   \n",
       "\n",
       "                                  \n",
       "n_estimators       190       200  \n",
       "max_features                      \n",
       "1             0.990892  0.989979  \n",
       "2             0.991797  0.991802  \n",
       "3             0.991793  0.991797  \n",
       "4             0.987244  0.988149  "
      ]
     },
     "execution_count": 17,
     "metadata": {},
     "output_type": "execute_result"
    }
   ],
   "source": [
    "# Pivoting Data \n",
    "grid_reset = grid_contour.reset_index()\n",
    "grid_reset.columns = ['max_features', 'n_estimators', 'Accuracy']\n",
    "grid_pivot = grid_reset.pivot('max_features', 'n_estimators')\n",
    "grid_pivot"
   ]
  },
  {
   "cell_type": "code",
   "execution_count": 18,
   "id": "formed-preparation",
   "metadata": {
    "_kg_hide-input": true,
    "execution": {
     "iopub.execute_input": "2021-04-18T07:23:12.449949Z",
     "iopub.status.busy": "2021-04-18T07:23:12.449133Z",
     "iopub.status.idle": "2021-04-18T07:23:12.452104Z",
     "shell.execute_reply": "2021-04-18T07:23:12.451589Z"
    },
    "papermill": {
     "duration": 0.038199,
     "end_time": "2021-04-18T07:23:12.452261",
     "exception": false,
     "start_time": "2021-04-18T07:23:12.414062",
     "status": "completed"
    },
    "tags": []
   },
   "outputs": [],
   "source": [
    "x = grid_pivot.columns.levels[1].values\n",
    "y = grid_pivot.index.values\n",
    "z = grid_pivot.values"
   ]
  },
  {
   "cell_type": "code",
   "execution_count": 19,
   "id": "recorded-collar",
   "metadata": {
    "_kg_hide-input": true,
    "execution": {
     "iopub.execute_input": "2021-04-18T07:23:12.521583Z",
     "iopub.status.busy": "2021-04-18T07:23:12.520977Z",
     "iopub.status.idle": "2021-04-18T07:23:12.731689Z",
     "shell.execute_reply": "2021-04-18T07:23:12.731143Z"
    },
    "papermill": {
     "duration": 0.248869,
     "end_time": "2021-04-18T07:23:12.731855",
     "exception": false,
     "start_time": "2021-04-18T07:23:12.482986",
     "status": "completed"
    },
    "tags": []
   },
   "outputs": [
    {
     "data": {
      "text/html": [
       "        <script type=\"text/javascript\">\n",
       "        window.PlotlyConfig = {MathJaxConfig: 'local'};\n",
       "        if (window.MathJax) {MathJax.Hub.Config({SVG: {font: \"STIX-Web\"}});}\n",
       "        if (typeof require !== 'undefined') {\n",
       "        require.undef(\"plotly\");\n",
       "        requirejs.config({\n",
       "            paths: {\n",
       "                'plotly': ['https://cdn.plot.ly/plotly-latest.min']\n",
       "            }\n",
       "        });\n",
       "        require(['plotly'], function(Plotly) {\n",
       "            window._Plotly = Plotly;\n",
       "        });\n",
       "        }\n",
       "        </script>\n",
       "        "
      ]
     },
     "metadata": {},
     "output_type": "display_data"
    },
    {
     "data": {
      "text/html": [
       "<div>                            <div id=\"e2d8ccb1-a79b-4a00-ae1e-de7d4b2883b7\" class=\"plotly-graph-div\" style=\"height:500px; width:500px;\"></div>            <script type=\"text/javascript\">                require([\"plotly\"], function(Plotly) {                    window.PLOTLYENV=window.PLOTLYENV || {};                                    if (document.getElementById(\"e2d8ccb1-a79b-4a00-ae1e-de7d4b2883b7\")) {                    Plotly.newPlot(                        \"e2d8ccb1-a79b-4a00-ae1e-de7d4b2883b7\",                        [{\"type\": \"contour\", \"x\": [10, 20, 30, 40, 50, 60, 70, 80, 90, 100, 110, 120, 130, 140, 150, 160, 170, 180, 190, 200], \"y\": [1, 2, 3, 4], \"z\": [[0.9917974263179744, 0.9918015774180157, 0.9917974263179744, 0.9872478206724782, 0.989983395599834, 0.9918057285180574, 0.9918057285180574, 0.9890701535907015, 0.9908924865089249, 0.9918015774180157, 0.9918015774180157, 0.9899792444997925, 0.9918057285180574, 0.9899792444997925, 0.9918057285180574, 0.9899792444997925, 0.9908924865089249, 0.9908924865089249, 0.9908924865089249, 0.9899792444997925], [0.9908883354088832, 0.9899709422997095, 0.9890701535907016, 0.9917974263179742, 0.9908883354088832, 0.9908883354088832, 0.9917974263179744, 0.9890701535907015, 0.9917974263179742, 0.9917974263179742, 0.9917974263179742, 0.9917974263179742, 0.9917974263179742, 0.9927148194271481, 0.9917974263179742, 0.9927106683271066, 0.9908883354088832, 0.9908883354088832, 0.9917974263179742, 0.9918015774180157], [0.9863304275633042, 0.9872478206724782, 0.9908841843088417, 0.9908800332088002, 0.9908841843088417, 0.9927106683271066, 0.9899709422997095, 0.9917932752179327, 0.9927065172270652, 0.9908800332088002, 0.9908800332088002, 0.9917974263179742, 0.9917974263179744, 0.9908841843088417, 0.9917932752179327, 0.9908841843088417, 0.9899709422997095, 0.9917932752179327, 0.9917932752179327, 0.9917974263179744], [0.984508094645081, 0.9872395184723952, 0.9863304275633042, 0.9881486093814861, 0.9881527604815276, 0.9872395184723952, 0.9826899128268991, 0.9872395184723952, 0.9872395184723952, 0.9863345786633457, 0.9845122457451225, 0.9881527604815276, 0.9854254877542548, 0.9881486093814861, 0.9881486093814861, 0.9872395184723952, 0.9872395184723951, 0.9863262764632628, 0.9872436695724367, 0.9881486093814861]]}],                        {\"autosize\": false, \"height\": 500, \"margin\": {\"b\": 65, \"l\": 65, \"r\": 50, \"t\": 90}, \"template\": {\"data\": {\"bar\": [{\"error_x\": {\"color\": \"#2a3f5f\"}, \"error_y\": {\"color\": \"#2a3f5f\"}, \"marker\": {\"line\": {\"color\": \"#E5ECF6\", \"width\": 0.5}}, \"type\": \"bar\"}], \"barpolar\": [{\"marker\": {\"line\": {\"color\": \"#E5ECF6\", \"width\": 0.5}}, \"type\": \"barpolar\"}], \"carpet\": [{\"aaxis\": {\"endlinecolor\": \"#2a3f5f\", \"gridcolor\": \"white\", \"linecolor\": \"white\", \"minorgridcolor\": \"white\", \"startlinecolor\": \"#2a3f5f\"}, \"baxis\": {\"endlinecolor\": \"#2a3f5f\", \"gridcolor\": \"white\", \"linecolor\": \"white\", \"minorgridcolor\": \"white\", \"startlinecolor\": \"#2a3f5f\"}, \"type\": \"carpet\"}], \"choropleth\": [{\"colorbar\": {\"outlinewidth\": 0, \"ticks\": \"\"}, \"type\": \"choropleth\"}], \"contour\": [{\"colorbar\": {\"outlinewidth\": 0, \"ticks\": \"\"}, \"colorscale\": [[0.0, \"#0d0887\"], [0.1111111111111111, \"#46039f\"], [0.2222222222222222, \"#7201a8\"], [0.3333333333333333, \"#9c179e\"], [0.4444444444444444, \"#bd3786\"], [0.5555555555555556, \"#d8576b\"], [0.6666666666666666, \"#ed7953\"], [0.7777777777777778, \"#fb9f3a\"], [0.8888888888888888, \"#fdca26\"], [1.0, \"#f0f921\"]], \"type\": \"contour\"}], \"contourcarpet\": [{\"colorbar\": {\"outlinewidth\": 0, \"ticks\": \"\"}, \"type\": \"contourcarpet\"}], \"heatmap\": [{\"colorbar\": {\"outlinewidth\": 0, \"ticks\": \"\"}, \"colorscale\": [[0.0, \"#0d0887\"], [0.1111111111111111, \"#46039f\"], [0.2222222222222222, \"#7201a8\"], [0.3333333333333333, \"#9c179e\"], [0.4444444444444444, \"#bd3786\"], [0.5555555555555556, \"#d8576b\"], [0.6666666666666666, \"#ed7953\"], [0.7777777777777778, \"#fb9f3a\"], [0.8888888888888888, \"#fdca26\"], [1.0, \"#f0f921\"]], \"type\": \"heatmap\"}], \"heatmapgl\": [{\"colorbar\": {\"outlinewidth\": 0, \"ticks\": \"\"}, \"colorscale\": [[0.0, \"#0d0887\"], [0.1111111111111111, \"#46039f\"], [0.2222222222222222, \"#7201a8\"], [0.3333333333333333, \"#9c179e\"], [0.4444444444444444, \"#bd3786\"], [0.5555555555555556, \"#d8576b\"], [0.6666666666666666, \"#ed7953\"], [0.7777777777777778, \"#fb9f3a\"], [0.8888888888888888, \"#fdca26\"], [1.0, \"#f0f921\"]], \"type\": \"heatmapgl\"}], \"histogram\": [{\"marker\": {\"colorbar\": {\"outlinewidth\": 0, \"ticks\": \"\"}}, \"type\": \"histogram\"}], \"histogram2d\": [{\"colorbar\": {\"outlinewidth\": 0, \"ticks\": \"\"}, \"colorscale\": [[0.0, \"#0d0887\"], [0.1111111111111111, \"#46039f\"], [0.2222222222222222, \"#7201a8\"], [0.3333333333333333, \"#9c179e\"], [0.4444444444444444, \"#bd3786\"], [0.5555555555555556, \"#d8576b\"], [0.6666666666666666, \"#ed7953\"], [0.7777777777777778, \"#fb9f3a\"], [0.8888888888888888, \"#fdca26\"], [1.0, \"#f0f921\"]], \"type\": \"histogram2d\"}], \"histogram2dcontour\": [{\"colorbar\": {\"outlinewidth\": 0, \"ticks\": \"\"}, \"colorscale\": [[0.0, \"#0d0887\"], [0.1111111111111111, \"#46039f\"], [0.2222222222222222, \"#7201a8\"], [0.3333333333333333, \"#9c179e\"], [0.4444444444444444, \"#bd3786\"], [0.5555555555555556, \"#d8576b\"], [0.6666666666666666, \"#ed7953\"], [0.7777777777777778, \"#fb9f3a\"], [0.8888888888888888, \"#fdca26\"], [1.0, \"#f0f921\"]], \"type\": \"histogram2dcontour\"}], \"mesh3d\": [{\"colorbar\": {\"outlinewidth\": 0, \"ticks\": \"\"}, \"type\": \"mesh3d\"}], \"parcoords\": [{\"line\": {\"colorbar\": {\"outlinewidth\": 0, \"ticks\": \"\"}}, \"type\": \"parcoords\"}], \"pie\": [{\"automargin\": true, \"type\": \"pie\"}], \"scatter\": [{\"marker\": {\"colorbar\": {\"outlinewidth\": 0, \"ticks\": \"\"}}, \"type\": \"scatter\"}], \"scatter3d\": [{\"line\": {\"colorbar\": {\"outlinewidth\": 0, \"ticks\": \"\"}}, \"marker\": {\"colorbar\": {\"outlinewidth\": 0, \"ticks\": \"\"}}, \"type\": \"scatter3d\"}], \"scattercarpet\": [{\"marker\": {\"colorbar\": {\"outlinewidth\": 0, \"ticks\": \"\"}}, \"type\": \"scattercarpet\"}], \"scattergeo\": [{\"marker\": {\"colorbar\": {\"outlinewidth\": 0, \"ticks\": \"\"}}, \"type\": \"scattergeo\"}], \"scattergl\": [{\"marker\": {\"colorbar\": {\"outlinewidth\": 0, \"ticks\": \"\"}}, \"type\": \"scattergl\"}], \"scattermapbox\": [{\"marker\": {\"colorbar\": {\"outlinewidth\": 0, \"ticks\": \"\"}}, \"type\": \"scattermapbox\"}], \"scatterpolar\": [{\"marker\": {\"colorbar\": {\"outlinewidth\": 0, \"ticks\": \"\"}}, \"type\": \"scatterpolar\"}], \"scatterpolargl\": [{\"marker\": {\"colorbar\": {\"outlinewidth\": 0, \"ticks\": \"\"}}, \"type\": \"scatterpolargl\"}], \"scatterternary\": [{\"marker\": {\"colorbar\": {\"outlinewidth\": 0, \"ticks\": \"\"}}, \"type\": \"scatterternary\"}], \"surface\": [{\"colorbar\": {\"outlinewidth\": 0, \"ticks\": \"\"}, \"colorscale\": [[0.0, \"#0d0887\"], [0.1111111111111111, \"#46039f\"], [0.2222222222222222, \"#7201a8\"], [0.3333333333333333, \"#9c179e\"], [0.4444444444444444, \"#bd3786\"], [0.5555555555555556, \"#d8576b\"], [0.6666666666666666, \"#ed7953\"], [0.7777777777777778, \"#fb9f3a\"], [0.8888888888888888, \"#fdca26\"], [1.0, \"#f0f921\"]], \"type\": \"surface\"}], \"table\": [{\"cells\": {\"fill\": {\"color\": \"#EBF0F8\"}, \"line\": {\"color\": \"white\"}}, \"header\": {\"fill\": {\"color\": \"#C8D4E3\"}, \"line\": {\"color\": \"white\"}}, \"type\": \"table\"}]}, \"layout\": {\"annotationdefaults\": {\"arrowcolor\": \"#2a3f5f\", \"arrowhead\": 0, \"arrowwidth\": 1}, \"autotypenumbers\": \"strict\", \"coloraxis\": {\"colorbar\": {\"outlinewidth\": 0, \"ticks\": \"\"}}, \"colorscale\": {\"diverging\": [[0, \"#8e0152\"], [0.1, \"#c51b7d\"], [0.2, \"#de77ae\"], [0.3, \"#f1b6da\"], [0.4, \"#fde0ef\"], [0.5, \"#f7f7f7\"], [0.6, \"#e6f5d0\"], [0.7, \"#b8e186\"], [0.8, \"#7fbc41\"], [0.9, \"#4d9221\"], [1, \"#276419\"]], \"sequential\": [[0.0, \"#0d0887\"], [0.1111111111111111, \"#46039f\"], [0.2222222222222222, \"#7201a8\"], [0.3333333333333333, \"#9c179e\"], [0.4444444444444444, \"#bd3786\"], [0.5555555555555556, \"#d8576b\"], [0.6666666666666666, \"#ed7953\"], [0.7777777777777778, \"#fb9f3a\"], [0.8888888888888888, \"#fdca26\"], [1.0, \"#f0f921\"]], \"sequentialminus\": [[0.0, \"#0d0887\"], [0.1111111111111111, \"#46039f\"], [0.2222222222222222, \"#7201a8\"], [0.3333333333333333, \"#9c179e\"], [0.4444444444444444, \"#bd3786\"], [0.5555555555555556, \"#d8576b\"], [0.6666666666666666, \"#ed7953\"], [0.7777777777777778, \"#fb9f3a\"], [0.8888888888888888, \"#fdca26\"], [1.0, \"#f0f921\"]]}, \"colorway\": [\"#636efa\", \"#EF553B\", \"#00cc96\", \"#ab63fa\", \"#FFA15A\", \"#19d3f3\", \"#FF6692\", \"#B6E880\", \"#FF97FF\", \"#FECB52\"], \"font\": {\"color\": \"#2a3f5f\"}, \"geo\": {\"bgcolor\": \"white\", \"lakecolor\": \"white\", \"landcolor\": \"#E5ECF6\", \"showlakes\": true, \"showland\": true, \"subunitcolor\": \"white\"}, \"hoverlabel\": {\"align\": \"left\"}, \"hovermode\": \"closest\", \"mapbox\": {\"style\": \"light\"}, \"paper_bgcolor\": \"white\", \"plot_bgcolor\": \"#E5ECF6\", \"polar\": {\"angularaxis\": {\"gridcolor\": \"white\", \"linecolor\": \"white\", \"ticks\": \"\"}, \"bgcolor\": \"#E5ECF6\", \"radialaxis\": {\"gridcolor\": \"white\", \"linecolor\": \"white\", \"ticks\": \"\"}}, \"scene\": {\"xaxis\": {\"backgroundcolor\": \"#E5ECF6\", \"gridcolor\": \"white\", \"gridwidth\": 2, \"linecolor\": \"white\", \"showbackground\": true, \"ticks\": \"\", \"zerolinecolor\": \"white\"}, \"yaxis\": {\"backgroundcolor\": \"#E5ECF6\", \"gridcolor\": \"white\", \"gridwidth\": 2, \"linecolor\": \"white\", \"showbackground\": true, \"ticks\": \"\", \"zerolinecolor\": \"white\"}, \"zaxis\": {\"backgroundcolor\": \"#E5ECF6\", \"gridcolor\": \"white\", \"gridwidth\": 2, \"linecolor\": \"white\", \"showbackground\": true, \"ticks\": \"\", \"zerolinecolor\": \"white\"}}, \"shapedefaults\": {\"line\": {\"color\": \"#2a3f5f\"}}, \"ternary\": {\"aaxis\": {\"gridcolor\": \"white\", \"linecolor\": \"white\", \"ticks\": \"\"}, \"baxis\": {\"gridcolor\": \"white\", \"linecolor\": \"white\", \"ticks\": \"\"}, \"bgcolor\": \"#E5ECF6\", \"caxis\": {\"gridcolor\": \"white\", \"linecolor\": \"white\", \"ticks\": \"\"}}, \"title\": {\"x\": 0.05}, \"xaxis\": {\"automargin\": true, \"gridcolor\": \"white\", \"linecolor\": \"white\", \"ticks\": \"\", \"title\": {\"standoff\": 15}, \"zerolinecolor\": \"white\", \"zerolinewidth\": 2}, \"yaxis\": {\"automargin\": true, \"gridcolor\": \"white\", \"linecolor\": \"white\", \"ticks\": \"\", \"title\": {\"standoff\": 15}, \"zerolinecolor\": \"white\", \"zerolinewidth\": 2}}}, \"title\": {\"text\": \"Hyperparameter tuning\"}, \"width\": 500, \"xaxis\": {\"title\": {\"text\": \"n_estimators\"}}, \"yaxis\": {\"title\": {\"text\": \"max_features\"}}},                        {\"responsive\": true}                    ).then(function(){\n",
       "                            \n",
       "var gd = document.getElementById('e2d8ccb1-a79b-4a00-ae1e-de7d4b2883b7');\n",
       "var x = new MutationObserver(function (mutations, observer) {{\n",
       "        var display = window.getComputedStyle(gd).display;\n",
       "        if (!display || display === 'none') {{\n",
       "            console.log([gd, 'removed!']);\n",
       "            Plotly.purge(gd);\n",
       "            observer.disconnect();\n",
       "        }}\n",
       "}});\n",
       "\n",
       "// Listen for the removal of the full notebook cells\n",
       "var notebookContainer = gd.closest('#notebook-container');\n",
       "if (notebookContainer) {{\n",
       "    x.observe(notebookContainer, {childList: true});\n",
       "}}\n",
       "\n",
       "// Listen for the clearing of the current output cell\n",
       "var outputEl = gd.closest('.output');\n",
       "if (outputEl) {{\n",
       "    x.observe(outputEl, {childList: true});\n",
       "}}\n",
       "\n",
       "                        })                };                });            </script>        </div>"
      ]
     },
     "metadata": {},
     "output_type": "display_data"
    }
   ],
   "source": [
    "import plotly.graph_objects as go\n",
    "\n",
    "# X and Y axes labels\n",
    "layout = go.Layout(\n",
    "            xaxis=go.layout.XAxis(\n",
    "              title=go.layout.xaxis.Title(\n",
    "              text='n_estimators')\n",
    "             ),\n",
    "             yaxis=go.layout.YAxis(\n",
    "              title=go.layout.yaxis.Title(\n",
    "              text='max_features') \n",
    "            ) )\n",
    "\n",
    "fig = go.Figure(data = [go.Contour(z=z, x=x, y=y)], layout=layout )\n",
    "\n",
    "fig.update_layout(title='Hyperparameter tuning', autosize=False,\n",
    "                  width=500, height=500,\n",
    "                  margin=dict(l=65, r=50, b=65, t=90))\n",
    "\n",
    "fig.show()"
   ]
  },
  {
   "cell_type": "markdown",
   "id": "empirical-photography",
   "metadata": {
    "papermill": {
     "duration": 0.033241,
     "end_time": "2021-04-18T07:23:12.797476",
     "exception": false,
     "start_time": "2021-04-18T07:23:12.764235",
     "status": "completed"
    },
    "tags": []
   },
   "source": [
    "We can see that the region with light Yellow have the best hyperparameters.We can select hyperparameters fro this area.Our Grid Search has give us the best values for max_features and n_estimators as 1 and 30.If we look at the 2D contour plot carefully we can see that a region is marked in light yellow indicating the best hyper parameters."
   ]
  },
  {
   "cell_type": "markdown",
   "id": "herbal-champagne",
   "metadata": {
    "papermill": {
     "duration": 0.032462,
     "end_time": "2021-04-18T07:23:12.863027",
     "exception": false,
     "start_time": "2021-04-18T07:23:12.830565",
     "status": "completed"
    },
    "tags": []
   },
   "source": [
    "### 6.2 3D Surface Plot"
   ]
  },
  {
   "cell_type": "code",
   "execution_count": 20,
   "id": "spectacular-capitol",
   "metadata": {
    "_kg_hide-input": true,
    "execution": {
     "iopub.execute_input": "2021-04-18T07:23:12.935998Z",
     "iopub.status.busy": "2021-04-18T07:23:12.935084Z",
     "iopub.status.idle": "2021-04-18T07:23:13.147450Z",
     "shell.execute_reply": "2021-04-18T07:23:13.146977Z"
    },
    "papermill": {
     "duration": 0.252029,
     "end_time": "2021-04-18T07:23:13.147583",
     "exception": false,
     "start_time": "2021-04-18T07:23:12.895554",
     "status": "completed"
    },
    "tags": []
   },
   "outputs": [
    {
     "data": {
      "text/html": [
       "<div>                            <div id=\"e9cdfe12-c8c8-4c82-9164-5e2b41914ce6\" class=\"plotly-graph-div\" style=\"height:800px; width:800px;\"></div>            <script type=\"text/javascript\">                require([\"plotly\"], function(Plotly) {                    window.PLOTLYENV=window.PLOTLYENV || {};                                    if (document.getElementById(\"e9cdfe12-c8c8-4c82-9164-5e2b41914ce6\")) {                    Plotly.newPlot(                        \"e9cdfe12-c8c8-4c82-9164-5e2b41914ce6\",                        [{\"type\": \"surface\", \"x\": [10, 20, 30, 40, 50, 60, 70, 80, 90, 100, 110, 120, 130, 140, 150, 160, 170, 180, 190, 200], \"y\": [1, 2, 3, 4], \"z\": [[0.9917974263179744, 0.9918015774180157, 0.9917974263179744, 0.9872478206724782, 0.989983395599834, 0.9918057285180574, 0.9918057285180574, 0.9890701535907015, 0.9908924865089249, 0.9918015774180157, 0.9918015774180157, 0.9899792444997925, 0.9918057285180574, 0.9899792444997925, 0.9918057285180574, 0.9899792444997925, 0.9908924865089249, 0.9908924865089249, 0.9908924865089249, 0.9899792444997925], [0.9908883354088832, 0.9899709422997095, 0.9890701535907016, 0.9917974263179742, 0.9908883354088832, 0.9908883354088832, 0.9917974263179744, 0.9890701535907015, 0.9917974263179742, 0.9917974263179742, 0.9917974263179742, 0.9917974263179742, 0.9917974263179742, 0.9927148194271481, 0.9917974263179742, 0.9927106683271066, 0.9908883354088832, 0.9908883354088832, 0.9917974263179742, 0.9918015774180157], [0.9863304275633042, 0.9872478206724782, 0.9908841843088417, 0.9908800332088002, 0.9908841843088417, 0.9927106683271066, 0.9899709422997095, 0.9917932752179327, 0.9927065172270652, 0.9908800332088002, 0.9908800332088002, 0.9917974263179742, 0.9917974263179744, 0.9908841843088417, 0.9917932752179327, 0.9908841843088417, 0.9899709422997095, 0.9917932752179327, 0.9917932752179327, 0.9917974263179744], [0.984508094645081, 0.9872395184723952, 0.9863304275633042, 0.9881486093814861, 0.9881527604815276, 0.9872395184723952, 0.9826899128268991, 0.9872395184723952, 0.9872395184723952, 0.9863345786633457, 0.9845122457451225, 0.9881527604815276, 0.9854254877542548, 0.9881486093814861, 0.9881486093814861, 0.9872395184723952, 0.9872395184723951, 0.9863262764632628, 0.9872436695724367, 0.9881486093814861]]}],                        {\"autosize\": false, \"height\": 800, \"margin\": {\"b\": 65, \"l\": 65, \"r\": 50, \"t\": 90}, \"scene\": {\"xaxis\": {\"title\": {\"text\": \"n_estimators\"}}, \"yaxis\": {\"title\": {\"text\": \"max_features\"}}, \"zaxis\": {\"title\": {\"text\": \"Accuracy\"}}}, \"template\": {\"data\": {\"bar\": [{\"error_x\": {\"color\": \"#2a3f5f\"}, \"error_y\": {\"color\": \"#2a3f5f\"}, \"marker\": {\"line\": {\"color\": \"#E5ECF6\", \"width\": 0.5}}, \"type\": \"bar\"}], \"barpolar\": [{\"marker\": {\"line\": {\"color\": \"#E5ECF6\", \"width\": 0.5}}, \"type\": \"barpolar\"}], \"carpet\": [{\"aaxis\": {\"endlinecolor\": \"#2a3f5f\", \"gridcolor\": \"white\", \"linecolor\": \"white\", \"minorgridcolor\": \"white\", \"startlinecolor\": \"#2a3f5f\"}, \"baxis\": {\"endlinecolor\": \"#2a3f5f\", \"gridcolor\": \"white\", \"linecolor\": \"white\", \"minorgridcolor\": \"white\", \"startlinecolor\": \"#2a3f5f\"}, \"type\": \"carpet\"}], \"choropleth\": [{\"colorbar\": {\"outlinewidth\": 0, \"ticks\": \"\"}, \"type\": \"choropleth\"}], \"contour\": [{\"colorbar\": {\"outlinewidth\": 0, \"ticks\": \"\"}, \"colorscale\": [[0.0, \"#0d0887\"], [0.1111111111111111, \"#46039f\"], [0.2222222222222222, \"#7201a8\"], [0.3333333333333333, \"#9c179e\"], [0.4444444444444444, \"#bd3786\"], [0.5555555555555556, \"#d8576b\"], [0.6666666666666666, \"#ed7953\"], [0.7777777777777778, \"#fb9f3a\"], [0.8888888888888888, \"#fdca26\"], [1.0, \"#f0f921\"]], \"type\": \"contour\"}], \"contourcarpet\": [{\"colorbar\": {\"outlinewidth\": 0, \"ticks\": \"\"}, \"type\": \"contourcarpet\"}], \"heatmap\": [{\"colorbar\": {\"outlinewidth\": 0, \"ticks\": \"\"}, \"colorscale\": [[0.0, \"#0d0887\"], [0.1111111111111111, \"#46039f\"], [0.2222222222222222, \"#7201a8\"], [0.3333333333333333, \"#9c179e\"], [0.4444444444444444, \"#bd3786\"], [0.5555555555555556, \"#d8576b\"], [0.6666666666666666, \"#ed7953\"], [0.7777777777777778, \"#fb9f3a\"], [0.8888888888888888, \"#fdca26\"], [1.0, \"#f0f921\"]], \"type\": \"heatmap\"}], \"heatmapgl\": [{\"colorbar\": {\"outlinewidth\": 0, \"ticks\": \"\"}, \"colorscale\": [[0.0, \"#0d0887\"], [0.1111111111111111, \"#46039f\"], [0.2222222222222222, \"#7201a8\"], [0.3333333333333333, \"#9c179e\"], [0.4444444444444444, \"#bd3786\"], [0.5555555555555556, \"#d8576b\"], [0.6666666666666666, \"#ed7953\"], [0.7777777777777778, \"#fb9f3a\"], [0.8888888888888888, \"#fdca26\"], [1.0, \"#f0f921\"]], \"type\": \"heatmapgl\"}], \"histogram\": [{\"marker\": {\"colorbar\": {\"outlinewidth\": 0, \"ticks\": \"\"}}, \"type\": \"histogram\"}], \"histogram2d\": [{\"colorbar\": {\"outlinewidth\": 0, \"ticks\": \"\"}, \"colorscale\": [[0.0, \"#0d0887\"], [0.1111111111111111, \"#46039f\"], [0.2222222222222222, \"#7201a8\"], [0.3333333333333333, \"#9c179e\"], [0.4444444444444444, \"#bd3786\"], [0.5555555555555556, \"#d8576b\"], [0.6666666666666666, \"#ed7953\"], [0.7777777777777778, \"#fb9f3a\"], [0.8888888888888888, \"#fdca26\"], [1.0, \"#f0f921\"]], \"type\": \"histogram2d\"}], \"histogram2dcontour\": [{\"colorbar\": {\"outlinewidth\": 0, \"ticks\": \"\"}, \"colorscale\": [[0.0, \"#0d0887\"], [0.1111111111111111, \"#46039f\"], [0.2222222222222222, \"#7201a8\"], [0.3333333333333333, \"#9c179e\"], [0.4444444444444444, \"#bd3786\"], [0.5555555555555556, \"#d8576b\"], [0.6666666666666666, \"#ed7953\"], [0.7777777777777778, \"#fb9f3a\"], [0.8888888888888888, \"#fdca26\"], [1.0, \"#f0f921\"]], \"type\": \"histogram2dcontour\"}], \"mesh3d\": [{\"colorbar\": {\"outlinewidth\": 0, \"ticks\": \"\"}, \"type\": \"mesh3d\"}], \"parcoords\": [{\"line\": {\"colorbar\": {\"outlinewidth\": 0, \"ticks\": \"\"}}, \"type\": \"parcoords\"}], \"pie\": [{\"automargin\": true, \"type\": \"pie\"}], \"scatter\": [{\"marker\": {\"colorbar\": {\"outlinewidth\": 0, \"ticks\": \"\"}}, \"type\": \"scatter\"}], \"scatter3d\": [{\"line\": {\"colorbar\": {\"outlinewidth\": 0, \"ticks\": \"\"}}, \"marker\": {\"colorbar\": {\"outlinewidth\": 0, \"ticks\": \"\"}}, \"type\": \"scatter3d\"}], \"scattercarpet\": [{\"marker\": {\"colorbar\": {\"outlinewidth\": 0, \"ticks\": \"\"}}, \"type\": \"scattercarpet\"}], \"scattergeo\": [{\"marker\": {\"colorbar\": {\"outlinewidth\": 0, \"ticks\": \"\"}}, \"type\": \"scattergeo\"}], \"scattergl\": [{\"marker\": {\"colorbar\": {\"outlinewidth\": 0, \"ticks\": \"\"}}, \"type\": \"scattergl\"}], \"scattermapbox\": [{\"marker\": {\"colorbar\": {\"outlinewidth\": 0, \"ticks\": \"\"}}, \"type\": \"scattermapbox\"}], \"scatterpolar\": [{\"marker\": {\"colorbar\": {\"outlinewidth\": 0, \"ticks\": \"\"}}, \"type\": \"scatterpolar\"}], \"scatterpolargl\": [{\"marker\": {\"colorbar\": {\"outlinewidth\": 0, \"ticks\": \"\"}}, \"type\": \"scatterpolargl\"}], \"scatterternary\": [{\"marker\": {\"colorbar\": {\"outlinewidth\": 0, \"ticks\": \"\"}}, \"type\": \"scatterternary\"}], \"surface\": [{\"colorbar\": {\"outlinewidth\": 0, \"ticks\": \"\"}, \"colorscale\": [[0.0, \"#0d0887\"], [0.1111111111111111, \"#46039f\"], [0.2222222222222222, \"#7201a8\"], [0.3333333333333333, \"#9c179e\"], [0.4444444444444444, \"#bd3786\"], [0.5555555555555556, \"#d8576b\"], [0.6666666666666666, \"#ed7953\"], [0.7777777777777778, \"#fb9f3a\"], [0.8888888888888888, \"#fdca26\"], [1.0, \"#f0f921\"]], \"type\": \"surface\"}], \"table\": [{\"cells\": {\"fill\": {\"color\": \"#EBF0F8\"}, \"line\": {\"color\": \"white\"}}, \"header\": {\"fill\": {\"color\": \"#C8D4E3\"}, \"line\": {\"color\": \"white\"}}, \"type\": \"table\"}]}, \"layout\": {\"annotationdefaults\": {\"arrowcolor\": \"#2a3f5f\", \"arrowhead\": 0, \"arrowwidth\": 1}, \"autotypenumbers\": \"strict\", \"coloraxis\": {\"colorbar\": {\"outlinewidth\": 0, \"ticks\": \"\"}}, \"colorscale\": {\"diverging\": [[0, \"#8e0152\"], [0.1, \"#c51b7d\"], [0.2, \"#de77ae\"], [0.3, \"#f1b6da\"], [0.4, \"#fde0ef\"], [0.5, \"#f7f7f7\"], [0.6, \"#e6f5d0\"], [0.7, \"#b8e186\"], [0.8, \"#7fbc41\"], [0.9, \"#4d9221\"], [1, \"#276419\"]], \"sequential\": [[0.0, \"#0d0887\"], [0.1111111111111111, \"#46039f\"], [0.2222222222222222, \"#7201a8\"], [0.3333333333333333, \"#9c179e\"], [0.4444444444444444, \"#bd3786\"], [0.5555555555555556, \"#d8576b\"], [0.6666666666666666, \"#ed7953\"], [0.7777777777777778, \"#fb9f3a\"], [0.8888888888888888, \"#fdca26\"], [1.0, \"#f0f921\"]], \"sequentialminus\": [[0.0, \"#0d0887\"], [0.1111111111111111, \"#46039f\"], [0.2222222222222222, \"#7201a8\"], [0.3333333333333333, \"#9c179e\"], [0.4444444444444444, \"#bd3786\"], [0.5555555555555556, \"#d8576b\"], [0.6666666666666666, \"#ed7953\"], [0.7777777777777778, \"#fb9f3a\"], [0.8888888888888888, \"#fdca26\"], [1.0, \"#f0f921\"]]}, \"colorway\": [\"#636efa\", \"#EF553B\", \"#00cc96\", \"#ab63fa\", \"#FFA15A\", \"#19d3f3\", \"#FF6692\", \"#B6E880\", \"#FF97FF\", \"#FECB52\"], \"font\": {\"color\": \"#2a3f5f\"}, \"geo\": {\"bgcolor\": \"white\", \"lakecolor\": \"white\", \"landcolor\": \"#E5ECF6\", \"showlakes\": true, \"showland\": true, \"subunitcolor\": \"white\"}, \"hoverlabel\": {\"align\": \"left\"}, \"hovermode\": \"closest\", \"mapbox\": {\"style\": \"light\"}, \"paper_bgcolor\": \"white\", \"plot_bgcolor\": \"#E5ECF6\", \"polar\": {\"angularaxis\": {\"gridcolor\": \"white\", \"linecolor\": \"white\", \"ticks\": \"\"}, \"bgcolor\": \"#E5ECF6\", \"radialaxis\": {\"gridcolor\": \"white\", \"linecolor\": \"white\", \"ticks\": \"\"}}, \"scene\": {\"xaxis\": {\"backgroundcolor\": \"#E5ECF6\", \"gridcolor\": \"white\", \"gridwidth\": 2, \"linecolor\": \"white\", \"showbackground\": true, \"ticks\": \"\", \"zerolinecolor\": \"white\"}, \"yaxis\": {\"backgroundcolor\": \"#E5ECF6\", \"gridcolor\": \"white\", \"gridwidth\": 2, \"linecolor\": \"white\", \"showbackground\": true, \"ticks\": \"\", \"zerolinecolor\": \"white\"}, \"zaxis\": {\"backgroundcolor\": \"#E5ECF6\", \"gridcolor\": \"white\", \"gridwidth\": 2, \"linecolor\": \"white\", \"showbackground\": true, \"ticks\": \"\", \"zerolinecolor\": \"white\"}}, \"shapedefaults\": {\"line\": {\"color\": \"#2a3f5f\"}}, \"ternary\": {\"aaxis\": {\"gridcolor\": \"white\", \"linecolor\": \"white\", \"ticks\": \"\"}, \"baxis\": {\"gridcolor\": \"white\", \"linecolor\": \"white\", \"ticks\": \"\"}, \"bgcolor\": \"#E5ECF6\", \"caxis\": {\"gridcolor\": \"white\", \"linecolor\": \"white\", \"ticks\": \"\"}}, \"title\": {\"x\": 0.05}, \"xaxis\": {\"automargin\": true, \"gridcolor\": \"white\", \"linecolor\": \"white\", \"ticks\": \"\", \"title\": {\"standoff\": 15}, \"zerolinecolor\": \"white\", \"zerolinewidth\": 2}, \"yaxis\": {\"automargin\": true, \"gridcolor\": \"white\", \"linecolor\": \"white\", \"ticks\": \"\", \"title\": {\"standoff\": 15}, \"zerolinecolor\": \"white\", \"zerolinewidth\": 2}}}, \"title\": {\"text\": \"Hyperparameter tuning\"}, \"width\": 800, \"xaxis\": {\"title\": {\"text\": \"n_estimators\"}}, \"yaxis\": {\"title\": {\"text\": \"max_features\"}}},                        {\"responsive\": true}                    ).then(function(){\n",
       "                            \n",
       "var gd = document.getElementById('e9cdfe12-c8c8-4c82-9164-5e2b41914ce6');\n",
       "var x = new MutationObserver(function (mutations, observer) {{\n",
       "        var display = window.getComputedStyle(gd).display;\n",
       "        if (!display || display === 'none') {{\n",
       "            console.log([gd, 'removed!']);\n",
       "            Plotly.purge(gd);\n",
       "            observer.disconnect();\n",
       "        }}\n",
       "}});\n",
       "\n",
       "// Listen for the removal of the full notebook cells\n",
       "var notebookContainer = gd.closest('#notebook-container');\n",
       "if (notebookContainer) {{\n",
       "    x.observe(notebookContainer, {childList: true});\n",
       "}}\n",
       "\n",
       "// Listen for the clearing of the current output cell\n",
       "var outputEl = gd.closest('.output');\n",
       "if (outputEl) {{\n",
       "    x.observe(outputEl, {childList: true});\n",
       "}}\n",
       "\n",
       "                        })                };                });            </script>        </div>"
      ]
     },
     "metadata": {},
     "output_type": "display_data"
    }
   ],
   "source": [
    "import plotly.graph_objects as go\n",
    "\n",
    "\n",
    "fig = go.Figure(data= [go.Surface(z=z, y=y, x=x)], layout=layout )\n",
    "fig.update_layout(title='Hyperparameter tuning',\n",
    "                  scene = dict(\n",
    "                    xaxis_title='n_estimators',\n",
    "                    yaxis_title='max_features',\n",
    "                    zaxis_title='Accuracy'),\n",
    "                  autosize=False,\n",
    "                  width=800, height=800,\n",
    "                  margin=dict(l=65, r=50, b=65, t=90))\n",
    "fig.show()"
   ]
  },
  {
   "cell_type": "markdown",
   "id": "equal-generic",
   "metadata": {
    "papermill": {
     "duration": 0.04676,
     "end_time": "2021-04-18T07:23:13.240324",
     "exception": false,
     "start_time": "2021-04-18T07:23:13.193564",
     "status": "completed"
    },
    "tags": []
   },
   "source": [
    "# 7.Conclusion \n",
    "\n",
    "1.We have build a Random Forest Model to Predict the Fake Notes\n",
    "\n",
    "2.We have used Grid Search to find out the best hyperameter for our machine learning model\n",
    "\n",
    "3.We have displayed the hyperparameters with model accuracy with 2D and 3D plots.\n",
    "\n",
    "### You can refer to my other notebooks from https://www.kaggle.com/binuthomasphilip/code¶"
   ]
  }
 ],
 "metadata": {
  "kernelspec": {
   "display_name": "Python 3",
   "language": "python",
   "name": "python3"
  },
  "language_info": {
   "codemirror_mode": {
    "name": "ipython",
    "version": 3
   },
   "file_extension": ".py",
   "mimetype": "text/x-python",
   "name": "python",
   "nbconvert_exporter": "python",
   "pygments_lexer": "ipython3",
   "version": "3.7.9"
  },
  "papermill": {
   "default_parameters": {},
   "duration": 121.508083,
   "end_time": "2021-04-18T07:23:13.994285",
   "environment_variables": {},
   "exception": null,
   "input_path": "__notebook__.ipynb",
   "output_path": "__notebook__.ipynb",
   "parameters": {},
   "start_time": "2021-04-18T07:21:12.486202",
   "version": "2.3.2"
  }
 },
 "nbformat": 4,
 "nbformat_minor": 5
}
